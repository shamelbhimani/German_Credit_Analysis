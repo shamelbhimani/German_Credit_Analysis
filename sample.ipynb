{
 "cells": [
  {
   "metadata": {},
   "cell_type": "markdown",
   "source": [
    "# Statlog German Credit Data\n",
    "\n",
    "## Add a table of contents\n",
    "###Introduce the dataset and the purpose of the analysis"
   ],
   "id": "8193114790a9e03e"
  },
  {
   "metadata": {
    "ExecuteTime": {
     "end_time": "2025-07-20T21:28:06.766355Z",
     "start_time": "2025-07-20T21:28:05.001049Z"
    }
   },
   "cell_type": "code",
   "source": "import pandas as pd",
   "id": "1cf721743e64d79a",
   "outputs": [],
   "execution_count": 1
  },
  {
   "metadata": {},
   "cell_type": "markdown",
   "source": "# 1. Data Ingestion and Exploration",
   "id": "ca58c7cfbd9600c8"
  },
  {
   "metadata": {},
   "cell_type": "markdown",
   "source": [
    "## 1.1 Data Ingestion\n",
    "\n",
    "#### We will keep it simple for now, and load the data as a csv. We will build an ingestion pipeline for live data later on."
   ],
   "id": "74762335c3a59af5"
  },
  {
   "metadata": {},
   "cell_type": "code",
   "outputs": [],
   "execution_count": null,
   "source": "data = pd.read_csv('')",
   "id": "a37f2ba09454d8c3"
  }
 ],
 "metadata": {
  "kernelspec": {
   "display_name": "Python 3",
   "language": "python",
   "name": "python3"
  },
  "language_info": {
   "codemirror_mode": {
    "name": "ipython",
    "version": 2
   },
   "file_extension": ".py",
   "mimetype": "text/x-python",
   "name": "python",
   "nbconvert_exporter": "python",
   "pygments_lexer": "ipython2",
   "version": "2.7.6"
  }
 },
 "nbformat": 4,
 "nbformat_minor": 5
}
